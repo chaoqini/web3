{
 "cells": [
  {
   "cell_type": "code",
   "execution_count": null,
   "metadata": {
    "vscode": {
     "languageId": "plaintext"
    }
   },
   "outputs": [],
   "source": [
    "import sys\n",
    "import io\n",
    "import logging\n",
    "from gate_api import ApiClient, Configuration, WalletApi\n",
    "from gate_api.exceptions import GateApiException\n",
    "\n",
    "# 设置标准输出为 UTF-8 编码\n",
    "sys.stdout = io.TextIOWrapper(sys.stdout.buffer, encoding='utf-8')\n",
    "\n",
    "\n",
    "\n",
    "# 配置日志\n",
    "logging.basicConfig(level=logging.INFO, format='%(asctime)s - %(name)s - %(levelname)s - %(message)s')\n",
    "logger = logging.getLogger(__name__)\n",
    "\n",
    "def main():\n",
    "    # 替换为您的 API 密钥和秘密\n",
    "    api_key = 'YOUR_API_KEY'\n",
    "    api_secret = 'YOUR_API_SECRET'\n",
    "    \n",
    "    # 初始化 API 客户端\n",
    "    config = Configuration(key=api_key, secret=api_secret, host='https://api.gateio.ws/api/v4')\n",
    "    api_client = ApiClient(config)\n",
    "    wallet_api = WalletApi(api_client)\n",
    "\n",
    "    try:\n",
    "        # 获取账户余额\n",
    "        accounts = wallet_api.list_accounts()\n",
    "        for account in accounts:\n",
    "            logger.info(f\"Account: {account.currency}, Available: {account.available}, Locked: {account.locked}\")\n",
    "\n",
    "        # 获取市场行情\n",
    "        tickers = wallet_api.list_tickers()\n",
    "        for ticker in tickers:\n",
    "            logger.info(f\"Ticker: {ticker.currency_pair}, Last Price: {ticker.last}\")\n",
    "\n",
    "    except GateApiException as e:\n",
    "        logger.error(f\"API error: {e}\")\n",
    "\n",
    "if __name__ == \"__main__\":\n",
    "    main()\n"
   ]
  }
 ],
 "metadata": {
  "language_info": {
   "name": "python"
  }
 },
 "nbformat": 4,
 "nbformat_minor": 2
}
